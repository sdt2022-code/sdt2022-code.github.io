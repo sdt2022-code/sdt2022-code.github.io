{
 "cells": [
  {
   "cell_type": "code",
   "execution_count": 1,
   "metadata": {},
   "outputs": [
    {
     "name": "stdout",
     "output_type": "stream",
     "text": [
      "c:\\Python312\\python.exe\n"
     ]
    }
   ],
   "source": [
    "import sys\n",
    "print(sys.executable)"
   ]
  },
  {
   "cell_type": "code",
   "execution_count": 2,
   "metadata": {},
   "outputs": [],
   "source": [
    "import openai\n",
    "import os\n",
    "from dotenv import load_dotenv , find_dotenv\n"
   ]
  },
  {
   "cell_type": "code",
   "execution_count": 3,
   "metadata": {},
   "outputs": [
    {
     "data": {
      "text/plain": [
       "True"
      ]
     },
     "execution_count": 3,
     "metadata": {},
     "output_type": "execute_result"
    }
   ],
   "source": [
    "load_dotenv('c:\\\\Users\\\\sari_\\\\Desktop\\\\git\\\\.env' , override = True)"
   ]
  },
  {
   "cell_type": "code",
   "execution_count": 4,
   "metadata": {},
   "outputs": [
    {
     "data": {
      "text/plain": [
       "'c:\\\\Users\\\\sari_\\\\Desktop\\\\git'"
      ]
     },
     "execution_count": 4,
     "metadata": {},
     "output_type": "execute_result"
    }
   ],
   "source": [
    "pwd"
   ]
  },
  {
   "cell_type": "code",
   "execution_count": 5,
   "metadata": {},
   "outputs": [],
   "source": [
    "openai.api_key = os.getenv('OPENAI_API_KEY')"
   ]
  },
  {
   "cell_type": "code",
   "execution_count": 6,
   "metadata": {},
   "outputs": [
    {
     "name": "stderr",
     "output_type": "stream",
     "text": [
      "\n",
      "[notice] A new release of pip is available: 23.2.1 -> 23.3.2\n",
      "[notice] To update, run: python.exe -m pip install --upgrade pip\n"
     ]
    }
   ],
   "source": [
    "!pip install GitPython -q"
   ]
  },
  {
   "cell_type": "code",
   "execution_count": 13,
   "metadata": {},
   "outputs": [],
   "source": [
    "from git import Repo\n",
    "from pathlib import Path\n",
    "import shutil"
   ]
  },
  {
   "cell_type": "code",
   "execution_count": 81,
   "metadata": {},
   "outputs": [],
   "source": [
    "PATH_TO_BLOG_REPO = Path('C:\\\\Users\\\\sari_\\\\Desktop\\\\git\\\\sdt2022-code.github.io\\\\.git')\n",
    "PATH_TO_BLOG =  PATH_TO_BLOG = PATH_TO_BLOG_REPO.parent\n",
    "PATH_TO_CONTENT = PATH_TO_BLOG/\"Content\"\n"
   ]
  },
  {
   "cell_type": "code",
   "execution_count": 55,
   "metadata": {},
   "outputs": [],
   "source": [
    "PATH_TO_CONTENT.mkdir(exist_ok = True , parents = True)\n"
   ]
  },
  {
   "cell_type": "code",
   "execution_count": 56,
   "metadata": {},
   "outputs": [],
   "source": [
    "def update_blog(commit_msg = 'Updated Blog'):\n",
    "  repo = Repo(PATH_TO_BLOG_REPO)\n",
    "  repo.git.add(all=True)\n",
    "  repo.index.commit(commit_msg)\n",
    "  origin = repo.remote(name = 'origin')\n",
    "  origin.push"
   ]
  },
  {
   "cell_type": "code",
   "execution_count": 57,
   "metadata": {},
   "outputs": [],
   "source": [
    "test = 'djfbajngalkdg'\n",
    "with open(PATH_TO_BLOG/\"index.html\" , 'w') as f:\n",
    "  f.write(test)"
   ]
  },
  {
   "cell_type": "code",
   "execution_count": 58,
   "metadata": {},
   "outputs": [],
   "source": [
    "update_blog()"
   ]
  },
  {
   "cell_type": "code",
   "execution_count": 82,
   "metadata": {},
   "outputs": [],
   "source": [
    "def create_new_blog(title, content, cover_image = Path(\"C:\\\\Users\\\\sari_\\\\Desktop\\\\git\\\\bird.png\")):\n",
    "    cover_image = Path(cover_image)\n",
    "\n",
    "    files = len(list(PATH_TO_CONTENT.glob('*.html')))\n",
    "    new_title = f\"{files + 1}.html\"\n",
    "    path_to_new_content = PATH_TO_CONTENT/new_title\n",
    "\n",
    "    shutil.copy(cover_image,PATH_TO_CONTENT)\n",
    "\n",
    "    if not os.path.exists(path_to_new_content):\n",
    "        #Write a new html file\n",
    "        with open(path_to_new_content , 'w') as f:\n",
    "            f.write('<DOCTYPE HTML>\\n')\n",
    "            f.write(\"<html>\\n\")\n",
    "            f.write(\"<head>\\n\")\n",
    "            f.write(f\"<title> {title} </title>\\n\")\n",
    "            f.write(\"</head>\\n\")\n",
    "            \n",
    "            f.write(\"<body>\\n\")\n",
    "            f.write(f\"<img src='{cover_image.name}' alt='Cover Image'> <br />\\n\")\n",
    "            f.write(f\"<h1> {title} </h1>\")\n",
    "            #OpenAI --> compeltion GPT , replace 'hello\\n... post\\n\" to html format\n",
    "            f.write(content.replace(\"\\n\", \"<br />\\n\"))\n",
    "            f.write(\"</body>\\n\")\n",
    "            f.write(\"</html>\\n\")\n",
    "            print(\"Blog created\")\n",
    "            return path_to_new_content\n",
    "    else:\n",
    "        raise FileExistsError(\"File already exists, please check again file name.\")\n",
    "    \n",
    "\n"
   ]
  },
  {
   "cell_type": "code",
   "execution_count": 83,
   "metadata": {},
   "outputs": [
    {
     "name": "stdout",
     "output_type": "stream",
     "text": [
      "Blog created\n"
     ]
    }
   ],
   "source": [
    "path_to_new_content = create_new_blog('Title' , 'testesttest')"
   ]
  },
  {
   "cell_type": "code",
   "execution_count": 84,
   "metadata": {},
   "outputs": [
    {
     "name": "stderr",
     "output_type": "stream",
     "text": [
      "\n",
      "[notice] A new release of pip is available: 23.2.1 -> 23.3.2\n",
      "[notice] To update, run: python.exe -m pip install --upgrade pip\n"
     ]
    }
   ],
   "source": [
    "!pip install beautifulsoup4 -q\n"
   ]
  },
  {
   "cell_type": "code",
   "execution_count": 85,
   "metadata": {},
   "outputs": [],
   "source": [
    "from bs4 import BeautifulSoup as Soup"
   ]
  },
  {
   "cell_type": "code",
   "execution_count": 88,
   "metadata": {},
   "outputs": [],
   "source": [
    "with open(PATH_TO_BLOG/\"index.html\") as index:\n",
    "    soup = Soup(index.read())\n"
   ]
  },
  {
   "cell_type": "code",
   "execution_count": 89,
   "metadata": {},
   "outputs": [
    {
     "data": {
      "text/plain": [
       "'<html lang=\"en\">\\n<head>\\n<meta charset=\"utf-8\"/>\\n<meta content=\"IE=edge\" http-equiv=\"X-UA-Compatible\"/>\\n<meta content=\"width=device-width, initial-scale=1.0\" name=\"viewport\"/>\\n<title>Document</title>\\n</head>\\n<body>\\n<h1>My Blog Homepage</h1>\\n<a href=\"index.html\">Homepage</a>\\n</body>\\n</html>'"
      ]
     },
     "execution_count": 89,
     "metadata": {},
     "output_type": "execute_result"
    }
   ],
   "source": [
    "str(soup)"
   ]
  },
  {
   "cell_type": "code",
   "execution_count": 90,
   "metadata": {},
   "outputs": [],
   "source": [
    "def check_for_dup_links(path_to_new_content, links):\n",
    "    urls = [str(link.get(\"href\")) for link in links] #link of current existing blog posts\n",
    "    content_path = str(Path(*path_to_new_content.parts[-2:]))\n",
    "\n",
    "    return content_path in urls\n",
    "\n"
   ]
  },
  {
   "cell_type": "code",
   "execution_count": 95,
   "metadata": {},
   "outputs": [],
   "source": [
    "def write_to_index(path_to_new_content):\n",
    "    with open(PATH_TO_BLOG/'index.html') as index:\n",
    "        soup = Soup(index.read())\n",
    "\n",
    "    \n",
    "    links = soup.find_all('a')\n",
    "    last_link = links[-1]\n",
    "\n",
    "    if check_for_dup_links(path_to_new_content, links):\n",
    "        raise(ValueError(\"Link already exists!\"))\n",
    "    \n",
    "    link_to_new_blog = soup.new_tag('a' , href=Path(*path_to_new_content.parts[-2:]))\n",
    "    link_to_new_blog.string = path_to_new_content.name.split('.')[0]\n",
    "    last_link.insert_after(link_to_new_blog)\n",
    "\n",
    "    with open(PATH_TO_BLOG/'index.html','w') as f:\n",
    "        f.write(str(soup.prettify(formatter = 'html')))"
   ]
  },
  {
   "cell_type": "code",
   "execution_count": 96,
   "metadata": {},
   "outputs": [],
   "source": [
    "write_to_index(path_to_new_content)"
   ]
  },
  {
   "cell_type": "code",
   "execution_count": 98,
   "metadata": {},
   "outputs": [],
   "source": [
    "update_blog()"
   ]
  },
  {
   "cell_type": "code",
   "execution_count": 101,
   "metadata": {},
   "outputs": [],
   "source": [
    "def create_prompt(title):\n",
    "    prompt = \"\"\"Jose's Website\n",
    " \n",
    "    Biography\n",
    "    I am a Python instructor teaching people machine learning!\n",
    "\n",
    "\n",
    "    Blog\n",
    "\n",
    "    Jan 31, 2023\n",
    "    Title: {}\n",
    "    tags: tech, machine-learning, radiology\n",
    "    Summary:  I talk about the cons of machine learning in radiology. I explain why I think that AI will never replace the radiologist.\n",
    "    Full text: \"\"\".format(title)\n",
    "    return prompt"
   ]
  },
  {
   "cell_type": "code",
   "execution_count": 102,
   "metadata": {},
   "outputs": [
    {
     "name": "stdout",
     "output_type": "stream",
     "text": [
      "Jose's Website\n",
      " \n",
      "    Biography\n",
      "    I am a Python instructor teaching people machine learning!\n",
      "\n",
      "\n",
      "    Blog\n",
      "\n",
      "    Jan 31, 2023\n",
      "    Title: Why AI will never replace the radiologist\n",
      "    tags: tech, machine-learning, radiology\n",
      "    Summary:  I talk about the cons of machine learning in radiology. I explain why I think that AI will never replace the radiologist.\n",
      "    Full text: \n"
     ]
    }
   ],
   "source": [
    "title = \"Why AI will never replace the radiologist\"\n",
    "print(create_prompt(title))"
   ]
  },
  {
   "cell_type": "code",
   "execution_count": 116,
   "metadata": {},
   "outputs": [],
   "source": [
    "response = openai.Completion.create(engine = 'gpt-3.5-turbo-instruct',\n",
    "                                    prompt = create_prompt(title),\n",
    "                                    max_tokens = 1000,\n",
    "                                    temperature = 0.7)"
   ]
  },
  {
   "cell_type": "code",
   "execution_count": 107,
   "metadata": {},
   "outputs": [
    {
     "name": "stdout",
     "output_type": "stream",
     "text": [
      "\n",
      "As a Python instructor teaching people about machine learning, I often get asked about the potential for AI to replace certain professions. One field that often comes up in these discussions is radiology. With the advancements in machine learning and its ability to analyze medical images, many people wonder if AI will eventually replace radiologists.\n",
      "\n",
      "However, as someone who has worked closely with both machine learning and medical professionals, I firmly believe that AI will never fully replace radiologists. Here are a few reasons why.\n",
      "\n",
      "First and foremost, AI can only do what it is trained to do. While it is true that machine learning algorithms can be trained on vast amounts of medical images to detect abnormalities, it still requires human input and supervision. Radiologists have years of medical training and experience that cannot be replicated by a machine.\n",
      "\n",
      "Additionally, AI is limited by the quality and quantity of data it is trained on. If a machine learning algorithm is only trained on a specific type of medical image or a certain demographic, it may not be able to accurately detect abnormalities in other cases. Radiologists, on the other hand, have the ability to adapt and use their knowledge and experience to analyze a wide range of cases.\n",
      "\n",
      "Furthermore, AI lacks the ability to understand the full context of a patient's medical history. While it may be able to detect abnormalities in an image, it cannot take into account other factors such as the patient's symptoms, medical history, and current medications. This information is crucial in making an accurate diagnosis, and it is something that only a human radiologist can do.\n",
      "\n",
      "Of course, there are certainly benefits to using AI in radiology. It can help speed up the process of analyzing images and can potentially catch abnormalities that a human might miss. However, I firmly believe that it can never fully replace the expertise and experience of a human radiologist.\n",
      "\n",
      "In the end, AI and machine learning should be seen as tools to aid and enhance the work of radiologists, not replace them. As technology continues to advance, it is important for us to remember the value of human expertise in fields such as medicine. So while AI may be able to assist with certain tasks in radiology, it will never be able to fully replace the important work of a radiologist.\n"
     ]
    }
   ],
   "source": [
    "blog_content = response['choices'][0]['text']\n",
    "print(blog_content)"
   ]
  },
  {
   "cell_type": "code",
   "execution_count": 121,
   "metadata": {},
   "outputs": [],
   "source": [
    "def dalle2_prompt(title):\n",
    "    prompt = f\"pixel digital art showing {title}\"\n",
    "    return prompt"
   ]
  },
  {
   "cell_type": "code",
   "execution_count": 122,
   "metadata": {},
   "outputs": [
    {
     "data": {
      "text/plain": [
       "'pixel digital art showing Why AI will never replace the radiologist'"
      ]
     },
     "execution_count": 122,
     "metadata": {},
     "output_type": "execute_result"
    }
   ],
   "source": [
    "image_prompt = dalle2_prompt(title)\n",
    "image_prompt\n"
   ]
  },
  {
   "cell_type": "code",
   "execution_count": 123,
   "metadata": {},
   "outputs": [],
   "source": [
    "response = openai.Image.create(prompt = image_prompt,\n",
    "                               n=1 , size = '1024x1024')"
   ]
  },
  {
   "cell_type": "code",
   "execution_count": 125,
   "metadata": {},
   "outputs": [],
   "source": [
    "image_url = response['data'][0]['url']"
   ]
  },
  {
   "cell_type": "code",
   "execution_count": 127,
   "metadata": {},
   "outputs": [],
   "source": [
    "import requests"
   ]
  },
  {
   "cell_type": "code",
   "execution_count": 128,
   "metadata": {},
   "outputs": [],
   "source": [
    "def save_image(image_url, file_name):\n",
    "    image_res = requests.get(image_url, stream = True)\n",
    "    \n",
    "    if image_res.status_code == 200:\n",
    "        with open(file_name,'wb') as f:\n",
    "            shutil.copyfileobj(image_res.raw, f)\n",
    "    else:\n",
    "        print(\"Error downloading image!\")\n",
    "    return image_res.status_code\n"
   ]
  },
  {
   "cell_type": "code",
   "execution_count": 129,
   "metadata": {},
   "outputs": [
    {
     "data": {
      "text/plain": [
       "200"
      ]
     },
     "execution_count": 129,
     "metadata": {},
     "output_type": "execute_result"
    }
   ],
   "source": [
    "save_image(image_url , file_name = 'Blog1_Image.png')"
   ]
  },
  {
   "cell_type": "code",
   "execution_count": null,
   "metadata": {},
   "outputs": [],
   "source": [
    "#from PIL import Image\n",
    "#Image.open(save_path)"
   ]
  },
  {
   "cell_type": "code",
   "execution_count": 135,
   "metadata": {},
   "outputs": [
    {
     "name": "stdout",
     "output_type": "stream",
     "text": [
      "Blog created\n"
     ]
    }
   ],
   "source": [
    "path_to_new_content = create_new_blog(title , blog_content , 'Blog1_Image.png')"
   ]
  },
  {
   "cell_type": "code",
   "execution_count": 136,
   "metadata": {},
   "outputs": [],
   "source": [
    "write_to_index(path_to_new_content)"
   ]
  },
  {
   "cell_type": "code",
   "execution_count": 137,
   "metadata": {},
   "outputs": [],
   "source": [
    "update_blog()"
   ]
  },
  {
   "cell_type": "code",
   "execution_count": null,
   "metadata": {},
   "outputs": [],
   "source": []
  }
 ],
 "metadata": {
  "kernelspec": {
   "display_name": "Python 3",
   "language": "python",
   "name": "python3"
  },
  "language_info": {
   "codemirror_mode": {
    "name": "ipython",
    "version": 3
   },
   "file_extension": ".py",
   "mimetype": "text/x-python",
   "name": "python",
   "nbconvert_exporter": "python",
   "pygments_lexer": "ipython3",
   "version": "3.12.0"
  },
  "orig_nbformat": 4
 },
 "nbformat": 4,
 "nbformat_minor": 2
}
